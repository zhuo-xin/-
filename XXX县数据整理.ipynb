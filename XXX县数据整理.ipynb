{
 "cells": [
  {
   "cell_type": "code",
   "execution_count": 1,
   "metadata": {},
   "outputs": [],
   "source": [
    "#导入需要的模块包\n",
    "import pandas as pd"
   ]
  },
  {
   "cell_type": "markdown",
   "metadata": {},
   "source": [
    "# 读取原始数据集"
   ]
  },
  {
   "cell_type": "code",
   "execution_count": null,
   "metadata": {},
   "outputs": [],
   "source": [
    "\n",
    "df = pd.read_csv('XXX县全县数据.csv')\n",
    "\n",
    "#更新列名\n",
    "df.columns = ['客户编号', '客户名称', '用电地址', '用电类别', '行业类别','ID','时间','正向有功电量','峰电量','平电量','谷电量']\n"
   ]
  },
  {
   "cell_type": "code",
   "execution_count": 78,
   "metadata": {},
   "outputs": [],
   "source": [
    "#日期列转换成datetime类型\n",
    "df['时间'] = pd.to_datetime(df['时间']) "
   ]
  },
  {
   "cell_type": "code",
   "execution_count": 80,
   "metadata": {},
   "outputs": [],
   "source": [
    "#拆分年、月、日\n",
    "df_year=df['时间'].apply(lambda x: x.year)\n",
    "df_month=df['时间'].apply(lambda x: x.month)\n",
    "df_day=df['时间'].apply(lambda x: x.day)\n",
    "\n",
    "#拼接新的年月日三列到原表\n",
    "df = pd.concat([df, df_year,df_month,df_day], axis=1)"
   ]
  },
  {
   "cell_type": "code",
   "execution_count": 81,
   "metadata": {},
   "outputs": [],
   "source": [
    "df.columns = ['客户编号', '客户名称', '用电地址', '用电类别', '行业类别','ID','时间','正向有功电量','峰电量','平电量','谷电量','年','月','日']"
   ]
  },
  {
   "cell_type": "code",
   "execution_count": 88,
   "metadata": {},
   "outputs": [],
   "source": [
    "#删除不需要的三列\n",
    "df2=df.drop(['用电地址','ID','客户编号'],axis=1)"
   ]
  },
  {
   "cell_type": "code",
   "execution_count": 90,
   "metadata": {},
   "outputs": [],
   "source": [
    "df2.to_csv('XXX县时间拆分后全县数据.csv')"
   ]
  },
  {
   "cell_type": "markdown",
   "metadata": {},
   "source": [
    "# 拆分各行业数据集"
   ]
  },
  {
   "cell_type": "markdown",
   "metadata": {},
   "source": [
    "通过“行业类别”字段，将行业类别分类标准归纳如下：\n",
    "餐饮业包括：正餐服务|旅游饭店|其他餐饮业\n",
    "住宿业包括：一般旅馆|其他住宿业\n",
    "交通包括：道路运输辅助活动|公路旅客运输\n",
    "娱乐及观光活动包括：博物馆|其他娱乐活动|群众文体活动|休闲观光活动|游览景区管理"
   ]
  },
  {
   "cell_type": "code",
   "execution_count": 20,
   "metadata": {},
   "outputs": [],
   "source": [
    "#拆分餐饮业数据\n",
    "df_catering=df[df['行业类别'].str.contains('正餐服务|旅游饭店|其他餐饮业')]\n",
    "#输出餐饮业数据到excel\n",
    "df_catering.to_excel('XXX县餐饮业数据.xlsx',index=False)"
   ]
  },
  {
   "cell_type": "code",
   "execution_count": 21,
   "metadata": {},
   "outputs": [],
   "source": [
    "#拆分住宿业数据\n",
    "df_accommodation=df[df['行业类别'].str.contains('一般旅馆|其他住宿业')]\n",
    "#输出住宿业数据到excel\n",
    "df_accommodation.to_excel('XXX县住宿业数据.xlsx',index=False)"
   ]
  },
  {
   "cell_type": "code",
   "execution_count": 22,
   "metadata": {},
   "outputs": [],
   "source": [
    "#拆分交通数据\n",
    "df_transportation=df[df['行业类别'].str.contains('道路运输辅助活动|公路旅客运输')]\n",
    "#输出交通数据到excel\n",
    "df_transportation.to_excel('XXX县交通数据.xlsx',index=False)"
   ]
  },
  {
   "cell_type": "code",
   "execution_count": 23,
   "metadata": {},
   "outputs": [],
   "source": [
    "#拆分娱乐及观光活动数据\n",
    "df_entertainment=df[df['行业类别'].str.contains('博物馆|其他娱乐活动|群众文体活动|休闲观光活动|游览景区管理')]\n",
    "#输出娱乐及观光活动数据到excel\n",
    "df_entertainment.to_excel('XXX县娱乐及观光活动数据.xlsx',index=False)"
   ]
  },
  {
   "cell_type": "code",
   "execution_count": null,
   "metadata": {},
   "outputs": [],
   "source": []
  },
  {
   "cell_type": "markdown",
   "metadata": {},
   "source": [
    "# 行业年用电量占比"
   ]
  },
  {
   "cell_type": "markdown",
   "metadata": {},
   "source": [
    "大屏展示主界面的左上角饼图数据：餐饮业、住宿业、交通、旅游及观光活动"
   ]
  },
  {
   "cell_type": "code",
   "execution_count": 7,
   "metadata": {},
   "outputs": [
    {
     "data": {
      "text/plain": [
       "年\n",
       "2018    3081472.17\n",
       "2019    2740228.25\n",
       "2020    3651817.96\n",
       "Name: 正向有功电量, dtype: float64"
      ]
     },
     "execution_count": 7,
     "metadata": {},
     "output_type": "execute_result"
    }
   ],
   "source": [
    "#餐饮业年用电量\n",
    "df_catering=pd.read_excel('XXX县餐饮业数据.xlsx')\n",
    "df_catering_year=df_catering.groupby(['年'])['正向有功电量'].sum()\n",
    "df_catering_year"
   ]
  },
  {
   "cell_type": "code",
   "execution_count": 29,
   "metadata": {},
   "outputs": [
    {
     "data": {
      "text/plain": [
       "年\n",
       "2018     721441.00\n",
       "2019     991029.65\n",
       "2020    2058181.39\n",
       "Name: 正向有功电量, dtype: float64"
      ]
     },
     "execution_count": 29,
     "metadata": {},
     "output_type": "execute_result"
    }
   ],
   "source": [
    "#住宿业年用电量\n",
    "df_accommodation=pd.read_excel('XXX县住宿业数据.xlsx')\n",
    "df_accommodation=df_accommodation.groupby(['年'])['正向有功电量'].sum()\n",
    "df_accommodation"
   ]
  },
  {
   "cell_type": "code",
   "execution_count": 30,
   "metadata": {},
   "outputs": [
    {
     "data": {
      "text/plain": [
       "年\n",
       "2018    187598.73\n",
       "2019    250235.16\n",
       "2020    320100.66\n",
       "Name: 正向有功电量, dtype: float64"
      ]
     },
     "execution_count": 30,
     "metadata": {},
     "output_type": "execute_result"
    }
   ],
   "source": [
    "#交通年用电量\n",
    "df_transportation=pd.read_excel('XXX县交通数据.xlsx')\n",
    "df_transportation=df_transportation.groupby(['年'])['正向有功电量'].sum()\n",
    "df_transportation"
   ]
  },
  {
   "cell_type": "code",
   "execution_count": 31,
   "metadata": {},
   "outputs": [
    {
     "data": {
      "text/plain": [
       "年\n",
       "2018    72028.18\n",
       "2019    30788.11\n",
       "2020    29062.47\n",
       "Name: 正向有功电量, dtype: float64"
      ]
     },
     "execution_count": 31,
     "metadata": {},
     "output_type": "execute_result"
    }
   ],
   "source": [
    "#娱乐及观光活动用电量\n",
    "df_entertainment=pd.read_excel('XXX县娱乐及观光活动数据.xlsx')\n",
    "df_entertainment=df_entertainment.groupby(['年'])['正向有功电量'].sum()\n",
    "df_entertainment"
   ]
  },
  {
   "cell_type": "code",
   "execution_count": null,
   "metadata": {},
   "outputs": [],
   "source": []
  },
  {
   "cell_type": "markdown",
   "metadata": {},
   "source": [
    "# 行业用电量同环比"
   ]
  },
  {
   "cell_type": "markdown",
   "metadata": {},
   "source": [
    "依据正向有功电量计算各行业用电量的同比、环比值，作为新的列插入进数据集。"
   ]
  },
  {
   "cell_type": "code",
   "execution_count": 74,
   "metadata": {},
   "outputs": [
    {
     "name": "stderr",
     "output_type": "stream",
     "text": [
      "<ipython-input-74-11727ab75948>:7: FutureWarning: Indexing with multiple keys (implicitly converted to a tuple of keys) will be deprecated, use a list instead.\n",
      "  df_catering_monthly=df_catering.groupby(['年','月'])['正向有功电量','峰电量'].sum()\n"
     ]
    }
   ],
   "source": [
    "##### 餐饮业 #####\n",
    "\n",
    "#读取行业全部数据集\n",
    "df_catering=pd.read_excel('XXX县餐饮业数据.xlsx')\n",
    "\n",
    "#计算该行业每月用电量总和\n",
    "df_catering_monthly=df_catering.groupby(['年','月'])['正向有功电量','峰电量'].sum()\n",
    "\n",
    "#计算该行业用电量月环比值\n",
    "df_catering_monthly[\"环比值\"] = df_catering_monthly[\"正向有功电量\"].pct_change(periods=1)\n",
    "\n",
    "#删除无用列\n",
    "df_catering_monthly=df_catering_monthly.drop(['峰电量'],axis=1)\n",
    "\n",
    "#计算该行业用电量同比值\n",
    "df_catering_monthly[\"同比值\"] = df_catering_monthly[\"正向有功电量\"].pct_change(periods=12)\n",
    "\n",
    "#生成行业月度数据汇总、环比、同比表格\n",
    "df_catering_monthly.to_excel('餐饮业月度数据.xlsx')"
   ]
  },
  {
   "cell_type": "code",
   "execution_count": 36,
   "metadata": {},
   "outputs": [
    {
     "name": "stderr",
     "output_type": "stream",
     "text": [
      "<ipython-input-36-830036bee7d7>:5: FutureWarning: Indexing with multiple keys (implicitly converted to a tuple of keys) will be deprecated, use a list instead.\n",
      "  df_accommodation_monthly=df_accommodation.groupby(['年','月'])['正向有功电量','峰电量'].sum()\n"
     ]
    }
   ],
   "source": [
    "##### 住宿业 #####\n",
    "\n",
    "#读取行业全部数据集\n",
    "df_accommodation=pd.read_excel('XXX县住宿业数据.xlsx')\n",
    "\n",
    "#计算该行业每月用电量总和\n",
    "df_accommodation_monthly=df_accommodation.groupby(['年','月'])['正向有功电量','峰电量'].sum()\n",
    "\n",
    "#计算该行业用电量月环比值\n",
    "df_accommodation_monthly[\"环比值\"] = df_accommodation_monthly[\"正向有功电量\"].pct_change(periods=1)\n",
    "\n",
    "#删除无用列\n",
    "df_accommodation_monthly=df_accommodation_monthly.drop(['峰电量'],axis=1)\n",
    "\n",
    "#计算该行业用电量同比值\n",
    "df_accommodation_monthly[\"同比值\"] = df_accommodation_monthly[\"正向有功电量\"].pct_change(periods=12)\n",
    "\n",
    "#生成行业月度数据汇总、环比、同比表格\n",
    "df_accommodation_monthly.to_excel('住宿业月度数据.xlsx')"
   ]
  },
  {
   "cell_type": "code",
   "execution_count": 37,
   "metadata": {},
   "outputs": [
    {
     "name": "stderr",
     "output_type": "stream",
     "text": [
      "<ipython-input-37-c261e951a302>:7: FutureWarning: Indexing with multiple keys (implicitly converted to a tuple of keys) will be deprecated, use a list instead.\n",
      "  df_transportation_monthly=df_transportation.groupby(['年','月'])['正向有功电量','峰电量'].sum()\n"
     ]
    }
   ],
   "source": [
    "##### 交通 #####\n",
    "\n",
    "#读取行业全部数据集\n",
    "df_transportation=pd.read_excel('XXX县交通数据.xlsx')\n",
    "\n",
    "#计算该行业每月用电量总和\n",
    "df_transportation_monthly=df_transportation.groupby(['年','月'])['正向有功电量','峰电量'].sum()\n",
    "\n",
    "#计算该行业用电量月环比值\n",
    "df_transportation_monthly[\"环比值\"] = df_transportation_monthly[\"正向有功电量\"].pct_change(periods=1)\n",
    "\n",
    "#删除无用列\n",
    "df_transportation_monthly=df_transportation_monthly.drop(['峰电量'],axis=1)\n",
    "\n",
    "#计算该行业用电量同比值\n",
    "df_transportation_monthly[\"同比值\"] = df_transportation_monthly[\"正向有功电量\"].pct_change(periods=12)\n",
    "\n",
    "#生成行业月度数据汇总、环比、同比表格\n",
    "df_transportation_monthly.to_excel('交通月度数据.xlsx')"
   ]
  },
  {
   "cell_type": "code",
   "execution_count": 38,
   "metadata": {},
   "outputs": [
    {
     "name": "stderr",
     "output_type": "stream",
     "text": [
      "<ipython-input-38-300c98aaab3c>:7: FutureWarning: Indexing with multiple keys (implicitly converted to a tuple of keys) will be deprecated, use a list instead.\n",
      "  df_entertainment_monthly=df_entertainment.groupby(['年','月'])['正向有功电量','峰电量'].sum()\n"
     ]
    }
   ],
   "source": [
    "##### 娱乐及观光活动 #####\n",
    "\n",
    "#读取行业全部数据集\n",
    "df_entertainment=pd.read_excel('XXX县娱乐及观光活动数据.xlsx')\n",
    "\n",
    "#计算该行业每月用电量总和\n",
    "df_entertainment_monthly=df_entertainment.groupby(['年','月'])['正向有功电量','峰电量'].sum()\n",
    "\n",
    "#计算该行业用电量月环比值\n",
    "df_entertainment_monthly[\"环比值\"] = df_entertainment_monthly[\"正向有功电量\"].pct_change(periods=1)\n",
    "\n",
    "#删除无用列\n",
    "df_entertainment_monthly=df_entertainment_monthly.drop(['峰电量'],axis=1)\n",
    "\n",
    "#计算该行业用电量同比值\n",
    "df_entertainment_monthly[\"同比值\"] = df_entertainment_monthly[\"正向有功电量\"].pct_change(periods=12)\n",
    "\n",
    "#生成行业月度数据汇总、环比、同比表格\n",
    "df_entertainment_monthly.to_excel('娱乐及观光活动月度数据.xlsx')"
   ]
  },
  {
   "cell_type": "code",
   "execution_count": null,
   "metadata": {},
   "outputs": [],
   "source": []
  },
  {
   "cell_type": "markdown",
   "metadata": {},
   "source": [
    "# 电力指数构建"
   ]
  },
  {
   "cell_type": "markdown",
   "metadata": {},
   "source": [
    "一级下钻页面的年度电力指数计算模型"
   ]
  },
  {
   "cell_type": "code",
   "execution_count": 21,
   "metadata": {},
   "outputs": [
    {
     "name": "stderr",
     "output_type": "stream",
     "text": [
      "<ipython-input-21-b87eae13f44a>:6: FutureWarning: Indexing with multiple keys (implicitly converted to a tuple of keys) will be deprecated, use a list instead.\n",
      "  df=df.groupby(['年','月'])['正向有功电量','峰电量'].sum()\n"
     ]
    },
    {
     "name": "stdout",
     "output_type": "stream",
     "text": [
      "2019年电力指数为： 0.2423\n",
      "\n",
      "2020年电力指数为： 1.3017\n"
     ]
    }
   ],
   "source": [
    "df=pd.read_csv('XXX县时间拆分后全县数据.csv')\n",
    "#删除最左侧无用列\n",
    "df=df.drop([df.columns[0]],axis=1) \n",
    "\n",
    "#计算该行业每月用电量总和\n",
    "df=df.groupby(['年','月'])['正向有功电量','峰电量'].sum()\n",
    "\n",
    "#计算该行业用电量月环比值\n",
    "df[\"环比值\"] = df[\"正向有功电量\"].pct_change(periods=1)\n",
    "\n",
    "#计算该行业用电量同比值\n",
    "df[\"同比值\"] = df[\"正向有功电量\"].pct_change(periods=12)\n",
    "\n",
    "#将索引拆分\n",
    "df=df.reset_index()\n",
    "\n",
    "#2019、2020电力指数\n",
    "df_2019EI=df[df['年']==2019]['同比值'].mean()\n",
    "print('2019年电力指数为：',round(df_2019EI,4))\n",
    "df_2020EI=df[df['年']==2020]['同比值'].mean()\n",
    "print('\\n2020年电力指数为：',round(df_2020EI,4))"
   ]
  },
  {
   "cell_type": "markdown",
   "metadata": {},
   "source": [
    "# 经济指数构建"
   ]
  },
  {
   "cell_type": "markdown",
   "metadata": {},
   "source": [
    "一级下钻页面的经济指数计算模型"
   ]
  },
  {
   "cell_type": "code",
   "execution_count": 28,
   "metadata": {},
   "outputs": [],
   "source": [
    "df=pd.read_excel('【经济指标】居民每季度可支配收入.xlsx')"
   ]
  },
  {
   "cell_type": "code",
   "execution_count": 32,
   "metadata": {},
   "outputs": [
    {
     "name": "stdout",
     "output_type": "stream",
     "text": [
      "2019年经济指数为： 0.0875\n",
      "\n",
      "2020年经济指数为： 0.0534\n"
     ]
    }
   ],
   "source": [
    "df_2019MI=df[df['年']==2019]['平均同比'].mean()\n",
    "print('2019年经济指数为：',round(df_2019MI,4))\n",
    "df_2020MI=df[df['年']==2020]['平均同比'].mean()\n",
    "print('\\n2020年经济指数为：',round(df_2020MI,4))"
   ]
  },
  {
   "cell_type": "markdown",
   "metadata": {},
   "source": [
    "# 环境指数构建"
   ]
  },
  {
   "cell_type": "markdown",
   "metadata": {},
   "source": [
    "一级下钻页面的环境指数计算模型"
   ]
  },
  {
   "cell_type": "code",
   "execution_count": 33,
   "metadata": {},
   "outputs": [],
   "source": [
    "df=pd.read_excel('【环境指标】所有环境指标.xlsx')"
   ]
  },
  {
   "cell_type": "code",
   "execution_count": 35,
   "metadata": {},
   "outputs": [
    {
     "name": "stdout",
     "output_type": "stream",
     "text": [
      "\n",
      "2020年经济指数为： -0.053\n"
     ]
    }
   ],
   "source": [
    "df_2020HI=df['排名同比指数'].mean()\n",
    "print('\\n2020年经济指数为：',round(df_2020HI,4))"
   ]
  },
  {
   "cell_type": "markdown",
   "metadata": {},
   "source": [
    "# 人口指数构建"
   ]
  },
  {
   "cell_type": "markdown",
   "metadata": {},
   "source": [
    "一级下钻页面的人口指数计算模型"
   ]
  },
  {
   "cell_type": "code",
   "execution_count": 36,
   "metadata": {},
   "outputs": [],
   "source": [
    "df=pd.read_excel('【人口指标】.xlsx')"
   ]
  },
  {
   "cell_type": "code",
   "execution_count": 37,
   "metadata": {},
   "outputs": [
    {
     "data": {
      "text/html": [
       "<div>\n",
       "<style scoped>\n",
       "    .dataframe tbody tr th:only-of-type {\n",
       "        vertical-align: middle;\n",
       "    }\n",
       "\n",
       "    .dataframe tbody tr th {\n",
       "        vertical-align: top;\n",
       "    }\n",
       "\n",
       "    .dataframe thead th {\n",
       "        text-align: right;\n",
       "    }\n",
       "</style>\n",
       "<table border=\"1\" class=\"dataframe\">\n",
       "  <thead>\n",
       "    <tr style=\"text-align: right;\">\n",
       "      <th></th>\n",
       "      <th>年份</th>\n",
       "      <th>全县常住人口（万人）</th>\n",
       "      <th>户籍人口数（万人）</th>\n",
       "      <th>城镇人口（万人）</th>\n",
       "      <th>人口自然增长率</th>\n",
       "      <th>人口出生率</th>\n",
       "      <th>人口死亡率</th>\n",
       "      <th>0-14岁人口比例</th>\n",
       "      <th>15-64岁人口比例</th>\n",
       "      <th>65岁及以上人口比例</th>\n",
       "    </tr>\n",
       "  </thead>\n",
       "  <tbody>\n",
       "    <tr>\n",
       "      <th>0</th>\n",
       "      <td>2013</td>\n",
       "      <td>13.72</td>\n",
       "      <td>16.02</td>\n",
       "      <td>3.811416</td>\n",
       "      <td>0.00773</td>\n",
       "      <td>0.01479</td>\n",
       "      <td>0.00706</td>\n",
       "      <td>0.2100</td>\n",
       "      <td>0.7160</td>\n",
       "      <td>0.0740</td>\n",
       "    </tr>\n",
       "    <tr>\n",
       "      <th>1</th>\n",
       "      <td>2014</td>\n",
       "      <td>13.79</td>\n",
       "      <td>15.47</td>\n",
       "      <td>3.881885</td>\n",
       "      <td>0.00788</td>\n",
       "      <td>0.01496</td>\n",
       "      <td>0.00708</td>\n",
       "      <td>0.2080</td>\n",
       "      <td>0.7180</td>\n",
       "      <td>0.0740</td>\n",
       "    </tr>\n",
       "    <tr>\n",
       "      <th>2</th>\n",
       "      <td>2015</td>\n",
       "      <td>13.89</td>\n",
       "      <td>15.73</td>\n",
       "      <td>4.222560</td>\n",
       "      <td>0.00738</td>\n",
       "      <td>0.01436</td>\n",
       "      <td>0.00698</td>\n",
       "      <td>0.2136</td>\n",
       "      <td>0.6662</td>\n",
       "      <td>0.1203</td>\n",
       "    </tr>\n",
       "    <tr>\n",
       "      <th>3</th>\n",
       "      <td>2016</td>\n",
       "      <td>13.99</td>\n",
       "      <td>15.91</td>\n",
       "      <td>4.510376</td>\n",
       "      <td>0.00693</td>\n",
       "      <td>0.01408</td>\n",
       "      <td>0.00716</td>\n",
       "      <td>0.2070</td>\n",
       "      <td>0.7050</td>\n",
       "      <td>0.0880</td>\n",
       "    </tr>\n",
       "    <tr>\n",
       "      <th>4</th>\n",
       "      <td>2017</td>\n",
       "      <td>14.10</td>\n",
       "      <td>15.96</td>\n",
       "      <td>4.910000</td>\n",
       "      <td>0.00737</td>\n",
       "      <td>0.01454</td>\n",
       "      <td>0.00717</td>\n",
       "      <td>0.2060</td>\n",
       "      <td>0.7050</td>\n",
       "      <td>0.0890</td>\n",
       "    </tr>\n",
       "    <tr>\n",
       "      <th>5</th>\n",
       "      <td>2018</td>\n",
       "      <td>14.18</td>\n",
       "      <td>16.12</td>\n",
       "      <td>5.110000</td>\n",
       "      <td>0.00700</td>\n",
       "      <td>0.01425</td>\n",
       "      <td>0.00725</td>\n",
       "      <td>0.2070</td>\n",
       "      <td>0.7000</td>\n",
       "      <td>0.0930</td>\n",
       "    </tr>\n",
       "    <tr>\n",
       "      <th>6</th>\n",
       "      <td>2019</td>\n",
       "      <td>14.23</td>\n",
       "      <td>16.12</td>\n",
       "      <td>5.270000</td>\n",
       "      <td>0.00697</td>\n",
       "      <td>0.01420</td>\n",
       "      <td>0.00723</td>\n",
       "      <td>0.2040</td>\n",
       "      <td>0.7000</td>\n",
       "      <td>0.0920</td>\n",
       "    </tr>\n",
       "  </tbody>\n",
       "</table>\n",
       "</div>"
      ],
      "text/plain": [
       "     年份  全县常住人口（万人）  户籍人口数（万人）  城镇人口（万人）  人口自然增长率    人口出生率    人口死亡率  \\\n",
       "0  2013       13.72      16.02  3.811416  0.00773  0.01479  0.00706   \n",
       "1  2014       13.79      15.47  3.881885  0.00788  0.01496  0.00708   \n",
       "2  2015       13.89      15.73  4.222560  0.00738  0.01436  0.00698   \n",
       "3  2016       13.99      15.91  4.510376  0.00693  0.01408  0.00716   \n",
       "4  2017       14.10      15.96  4.910000  0.00737  0.01454  0.00717   \n",
       "5  2018       14.18      16.12  5.110000  0.00700  0.01425  0.00725   \n",
       "6  2019       14.23      16.12  5.270000  0.00697  0.01420  0.00723   \n",
       "\n",
       "   0-14岁人口比例  15-64岁人口比例  65岁及以上人口比例  \n",
       "0     0.2100      0.7160      0.0740  \n",
       "1     0.2080      0.7180      0.0740  \n",
       "2     0.2136      0.6662      0.1203  \n",
       "3     0.2070      0.7050      0.0880  \n",
       "4     0.2060      0.7050      0.0890  \n",
       "5     0.2070      0.7000      0.0930  \n",
       "6     0.2040      0.7000      0.0920  "
      ]
     },
     "execution_count": 37,
     "metadata": {},
     "output_type": "execute_result"
    }
   ],
   "source": [
    "df"
   ]
  },
  {
   "cell_type": "code",
   "execution_count": null,
   "metadata": {},
   "outputs": [],
   "source": []
  },
  {
   "cell_type": "markdown",
   "metadata": {},
   "source": [
    "# 景点评论文本分析"
   ]
  },
  {
   "cell_type": "markdown",
   "metadata": {},
   "source": [
    "在马蜂窝、携程使用“后裔采集器”进行景点评论爬虫提取文本数据，进行高频词抓取，并且生成词云图"
   ]
  },
  {
   "cell_type": "code",
   "execution_count": 25,
   "metadata": {},
   "outputs": [
    {
     "name": "stdout",
     "output_type": "stream",
     "text": [
      "Collecting jieba\n",
      "  Downloading jieba-0.42.1.tar.gz (19.2 MB)\n",
      "Building wheels for collected packages: jieba\n",
      "  Building wheel for jieba (setup.py): started\n",
      "  Building wheel for jieba (setup.py): finished with status 'done'\n",
      "  Created wheel for jieba: filename=jieba-0.42.1-py3-none-any.whl size=19314482 sha256=4abf2c50891685eaa002990dc8ab85553830ab5d5dbdcd02b01a8475ce0d5f26\n",
      "  Stored in directory: c:\\users\\35453\\appdata\\local\\pip\\cache\\wheels\\ca\\38\\d8\\dfdfe73bec1d12026b30cb7ce8da650f3f0ea2cf155ea018ae\n",
      "Successfully built jieba\n",
      "Installing collected packages: jieba\n",
      "Successfully installed jieba-0.42.1\n",
      "Note: you may need to restart the kernel to use updated packages.\n"
     ]
    }
   ],
   "source": [
    "pip install jieba"
   ]
  },
  {
   "cell_type": "code",
   "execution_count": 27,
   "metadata": {},
   "outputs": [
    {
     "name": "stdout",
     "output_type": "stream",
     "text": [
      "Collecting wordcloud\n",
      "  Downloading wordcloud-1.8.1-cp38-cp38-win_amd64.whl (155 kB)\n",
      "Requirement already satisfied: numpy>=1.6.1 in e:\\anaconda\\lib\\site-packages (from wordcloud) (1.19.2)\n",
      "Requirement already satisfied: pillow in e:\\anaconda\\lib\\site-packages (from wordcloud) (8.0.1)\n",
      "Requirement already satisfied: matplotlib in e:\\anaconda\\lib\\site-packages (from wordcloud) (3.3.2)\n",
      "Requirement already satisfied: pyparsing!=2.0.4,!=2.1.2,!=2.1.6,>=2.0.3 in e:\\anaconda\\lib\\site-packages (from matplotlib->wordcloud) (2.4.7)\n",
      "Requirement already satisfied: certifi>=2020.06.20 in e:\\anaconda\\lib\\site-packages (from matplotlib->wordcloud) (2020.6.20)\n",
      "Requirement already satisfied: cycler>=0.10 in e:\\anaconda\\lib\\site-packages (from matplotlib->wordcloud) (0.10.0)\n",
      "Requirement already satisfied: kiwisolver>=1.0.1 in e:\\anaconda\\lib\\site-packages (from matplotlib->wordcloud) (1.3.0)\n",
      "Requirement already satisfied: python-dateutil>=2.1 in e:\\anaconda\\lib\\site-packages (from matplotlib->wordcloud) (2.8.1)\n",
      "Requirement already satisfied: six in e:\\anaconda\\lib\\site-packages (from cycler>=0.10->matplotlib->wordcloud) (1.15.0)\n",
      "Installing collected packages: wordcloud\n",
      "Successfully installed wordcloud-1.8.1\n",
      "Note: you may need to restart the kernel to use updated packages.\n"
     ]
    }
   ],
   "source": [
    "pip install wordcloud"
   ]
  },
  {
   "cell_type": "code",
   "execution_count": 28,
   "metadata": {},
   "outputs": [],
   "source": [
    "import jieba\n",
    "import numpy as np\n",
    "import pandas as pd\n",
    "from wordcloud import WordCloud, ImageColorGenerator\n",
    "import matplotlib.pyplot as plt\n",
    "import os,sys\n"
   ]
  },
  {
   "cell_type": "code",
   "execution_count": 29,
   "metadata": {},
   "outputs": [],
   "source": [
    "df=pd.read_excel('马蜂窝—冶力关评论.xlsx')"
   ]
  },
  {
   "cell_type": "code",
   "execution_count": 30,
   "metadata": {},
   "outputs": [],
   "source": [
    "df=df[['rev-txt']]"
   ]
  },
  {
   "cell_type": "code",
   "execution_count": 31,
   "metadata": {},
   "outputs": [],
   "source": [
    "#将所有评论转为列表内的字符串\n",
    "comments=df['rev-txt'].tolist()"
   ]
  },
  {
   "cell_type": "code",
   "execution_count": 52,
   "metadata": {},
   "outputs": [],
   "source": [
    "#将每一条评论拆分成一个一个字符串词语组成的列表\n",
    "word_list=[]\n",
    "for i in range(len(comments)):\n",
    "    X=list(jieba.cut(comments[i], cut_all=False))\n",
    "    word_list.append(X)"
   ]
  },
  {
   "cell_type": "code",
   "execution_count": 55,
   "metadata": {},
   "outputs": [],
   "source": [
    "# 文本清洗 获得干净文本\n",
    "pure_text = []\n",
    "for each_comments in word_list:\n",
    "    for each_word in each_comments:\n",
    "        if len(each_word)>1 and each_word != \"\\n\\r\":\n",
    "            if not each_word.isdigit():  #去数字\n",
    "                pure_text.append(each_word.strip())\n"
   ]
  },
  {
   "cell_type": "code",
   "execution_count": 57,
   "metadata": {},
   "outputs": [],
   "source": [
    "import numpy as np\n",
    "content = pd.DataFrame(pure_text, columns=['word'])"
   ]
  },
  {
   "cell_type": "code",
   "execution_count": 59,
   "metadata": {},
   "outputs": [],
   "source": [
    "content_new = content.groupby('word').agg(计数=pd.NamedAgg(column='word', aggfunc='size')).reset_index().sort_values(\n",
    "    by='word', ascending=False)"
   ]
  },
  {
   "cell_type": "code",
   "execution_count": 75,
   "metadata": {},
   "outputs": [
    {
     "data": {
      "text/html": [
       "<div>\n",
       "<style scoped>\n",
       "    .dataframe tbody tr th:only-of-type {\n",
       "        vertical-align: middle;\n",
       "    }\n",
       "\n",
       "    .dataframe tbody tr th {\n",
       "        vertical-align: top;\n",
       "    }\n",
       "\n",
       "    .dataframe thead th {\n",
       "        text-align: right;\n",
       "    }\n",
       "</style>\n",
       "<table border=\"1\" class=\"dataframe\">\n",
       "  <thead>\n",
       "    <tr style=\"text-align: right;\">\n",
       "      <th></th>\n",
       "      <th>word</th>\n",
       "      <th>计数</th>\n",
       "    </tr>\n",
       "  </thead>\n",
       "  <tbody>\n",
       "    <tr>\n",
       "      <th>120</th>\n",
       "      <td>冶力关</td>\n",
       "      <td>19</td>\n",
       "    </tr>\n",
       "    <tr>\n",
       "      <th>331</th>\n",
       "      <td>景区</td>\n",
       "      <td>14</td>\n",
       "    </tr>\n",
       "    <tr>\n",
       "      <th>119</th>\n",
       "      <td>冶力</td>\n",
       "      <td>11</td>\n",
       "    </tr>\n",
       "    <tr>\n",
       "      <th>48</th>\n",
       "      <td>不错</td>\n",
       "      <td>11</td>\n",
       "    </tr>\n",
       "    <tr>\n",
       "      <th>102</th>\n",
       "      <td>兰州</td>\n",
       "      <td>10</td>\n",
       "    </tr>\n",
       "    <tr>\n",
       "      <th>195</th>\n",
       "      <td>地方</td>\n",
       "      <td>9</td>\n",
       "    </tr>\n",
       "    <tr>\n",
       "      <th>67</th>\n",
       "      <td>临潭县</td>\n",
       "      <td>8</td>\n",
       "    </tr>\n",
       "    <tr>\n",
       "      <th>536</th>\n",
       "      <td>这里</td>\n",
       "      <td>8</td>\n",
       "    </tr>\n",
       "    <tr>\n",
       "      <th>416</th>\n",
       "      <td>甘南</td>\n",
       "      <td>7</td>\n",
       "    </tr>\n",
       "    <tr>\n",
       "      <th>368</th>\n",
       "      <td>比较</td>\n",
       "      <td>7</td>\n",
       "    </tr>\n",
       "  </tbody>\n",
       "</table>\n",
       "</div>"
      ],
      "text/plain": [
       "    word  计数\n",
       "120  冶力关  19\n",
       "331   景区  14\n",
       "119   冶力  11\n",
       "48    不错  11\n",
       "102   兰州  10\n",
       "195   地方   9\n",
       "67   临潭县   8\n",
       "536   这里   8\n",
       "416   甘南   7\n",
       "368   比较   7"
      ]
     },
     "execution_count": 75,
     "metadata": {},
     "output_type": "execute_result"
    }
   ],
   "source": [
    "content_new.sort_values(by=['计数'],ascending=False).head(10)"
   ]
  },
  {
   "cell_type": "code",
   "execution_count": 71,
   "metadata": {},
   "outputs": [],
   "source": [
    "plt.rcParams['font.sans-serif']=['SimHei']  #显示中文标签\n",
    "plt.rcParams['axes.unicode_minus']=False    #显示负号"
   ]
  },
  {
   "cell_type": "code",
   "execution_count": 73,
   "metadata": {},
   "outputs": [
    {
     "data": {
      "image/png": "[encoded data removed]",
      "text/plain": [
       "<Figure size 432x288 with 1 Axes>"
      ]
     },
     "metadata": {
      "needs_background": "light"
     },
     "output_type": "display_data"
    }
   ],
   "source": [
    "wordcloud = WordCloud(background_color='white', max_font_size=80)\n",
    "\n",
    "word_frequence = {x[0]:x[1] for x in content_new.head(20).values}\n",
    "\n",
    "wordcloud = wordcloud.fit_words(word_frequence)\n",
    "\n",
    "# 展示图片\n",
    "plt.imshow(wordcloud)\n",
    "plt.axis(\"off\")\n",
    "plt.show()\n"
   ]
  },
  {
   "cell_type": "code",
   "execution_count": null,
   "metadata": {},
   "outputs": [],
   "source": []
  }
 ],
 "metadata": {
  "kernelspec": {
   "display_name": "Python 3",
   "language": "python",
   "name": "python3"
  },
  "language_info": {
   "codemirror_mode": {
    "name": "ipython",
    "version": 3
   },
   "file_extension": ".py",
   "mimetype": "text/x-python",
   "name": "python",
   "nbconvert_exporter": "python",
   "pygments_lexer": "ipython3",
   "version": "3.8.5"
  }
 },
 "nbformat": 4,
 "nbformat_minor": 4
}
