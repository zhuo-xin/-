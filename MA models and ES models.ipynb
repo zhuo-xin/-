{
 "cells": [
  {
   "cell_type": "code",
   "execution_count": 2,
   "metadata": {},
   "outputs": [],
   "source": [
    "import pandas as pd\n",
    "import matplotlib\n",
    "import matplotlib.pyplot as plt\n",
    "import numpy as np\n",
    "plt.rcParams['font.sans-serif']=['SimHei']  #显示中文标签\n",
    "plt.rcParams['axes.unicode_minus']=False    #显示负号"
   ]
  },
  {
   "cell_type": "code",
   "execution_count": 51,
   "metadata": {},
   "outputs": [
    {
     "name": "stderr",
     "output_type": "stream",
     "text": [
      "E:\\anaconda\\lib\\site-packages\\ipykernel_launcher.py:12: SettingWithCopyWarning: \n",
      "A value is trying to be set on a copy of a slice from a DataFrame\n",
      "\n",
      "See the caveats in the documentation: https://pandas.pydata.org/pandas-docs/stable/user_guide/indexing.html#returning-a-view-versus-a-copy\n",
      "  if sys.path[0] == '':\n"
     ]
    },
    {
     "data": {
      "text/html": [
       "<div>\n",
       "<style scoped>\n",
       "    .dataframe tbody tr th:only-of-type {\n",
       "        vertical-align: middle;\n",
       "    }\n",
       "\n",
       "    .dataframe tbody tr th {\n",
       "        vertical-align: top;\n",
       "    }\n",
       "\n",
       "    .dataframe thead th {\n",
       "        text-align: right;\n",
       "    }\n",
       "</style>\n",
       "<table border=\"1\" class=\"dataframe\">\n",
       "  <thead>\n",
       "    <tr style=\"text-align: right;\">\n",
       "      <th></th>\n",
       "      <th>月份</th>\n",
       "      <th>电量</th>\n",
       "      <th>MA5电量</th>\n",
       "    </tr>\n",
       "  </thead>\n",
       "  <tbody>\n",
       "    <tr>\n",
       "      <th>32</th>\n",
       "      <td>202009</td>\n",
       "      <td>26891.0000</td>\n",
       "      <td>24228.2</td>\n",
       "    </tr>\n",
       "    <tr>\n",
       "      <th>33</th>\n",
       "      <td>202010</td>\n",
       "      <td>21024.0000</td>\n",
       "      <td>25772.8</td>\n",
       "    </tr>\n",
       "    <tr>\n",
       "      <th>34</th>\n",
       "      <td>202011</td>\n",
       "      <td>23765.0000</td>\n",
       "      <td>25968.8</td>\n",
       "    </tr>\n",
       "    <tr>\n",
       "      <th>35</th>\n",
       "      <td>202012</td>\n",
       "      <td>17240.0000</td>\n",
       "      <td>22606.6</td>\n",
       "    </tr>\n",
       "    <tr>\n",
       "      <th>36</th>\n",
       "      <td>202101</td>\n",
       "      <td>22606.6000</td>\n",
       "      <td>22305.3</td>\n",
       "    </tr>\n",
       "    <tr>\n",
       "      <th>37</th>\n",
       "      <td>202102</td>\n",
       "      <td>22305.3200</td>\n",
       "      <td>21388.2</td>\n",
       "    </tr>\n",
       "    <tr>\n",
       "      <th>38</th>\n",
       "      <td>202103</td>\n",
       "      <td>21388.1840</td>\n",
       "      <td>21461</td>\n",
       "    </tr>\n",
       "    <tr>\n",
       "      <th>39</th>\n",
       "      <td>202104</td>\n",
       "      <td>21461.0208</td>\n",
       "      <td>Nan</td>\n",
       "    </tr>\n",
       "  </tbody>\n",
       "</table>\n",
       "</div>"
      ],
      "text/plain": [
       "        月份          电量    MA5电量\n",
       "32  202009  26891.0000  24228.2\n",
       "33  202010  21024.0000  25772.8\n",
       "34  202011  23765.0000  25968.8\n",
       "35  202012  17240.0000  22606.6\n",
       "36  202101  22606.6000  22305.3\n",
       "37  202102  22305.3200  21388.2\n",
       "38  202103  21388.1840    21461\n",
       "39  202104  21461.0208      Nan"
      ]
     },
     "execution_count": 51,
     "metadata": {},
     "output_type": "execute_result"
    }
   ],
   "source": [
    "####移动平均数预测餐饮业\n",
    "df = pd.read_excel('餐饮业时间序列.xlsx')\n",
    "df=df.dropna()\n",
    "forecast=np.array(df['电量'])                          \n",
    "for i in range(4):                                     #预测新的4期数据\n",
    "    forecast=np.append(forecast,forecast[-5:].mean())\n",
    "forecast[-4:]                                          #预测值\n",
    "df['MA5电量']=df['电量'].rolling(window=5).mean()    #添加移动平均数电量列\n",
    "for i in range(4):                              #将预测值插入电量列\n",
    "    df.loc[i+36]=[i+202101,forecast[i-4],'Nan']\n",
    "for i in range(3):\n",
    "    df['MA5电量'][i+36]=forecast[i-3]          #填满移动平均数列\n",
    "df.tail(8)"
   ]
  },
  {
   "cell_type": "code",
   "execution_count": 49,
   "metadata": {},
   "outputs": [
    {
     "name": "stderr",
     "output_type": "stream",
     "text": [
      "E:\\anaconda\\lib\\site-packages\\ipykernel_launcher.py:12: SettingWithCopyWarning: \n",
      "A value is trying to be set on a copy of a slice from a DataFrame\n",
      "\n",
      "See the caveats in the documentation: https://pandas.pydata.org/pandas-docs/stable/user_guide/indexing.html#returning-a-view-versus-a-copy\n",
      "  if sys.path[0] == '':\n"
     ]
    }
   ],
   "source": [
    "####移动平均数预测住宿\n",
    "df = pd.read_excel('住宿时间序列.xlsx')\n",
    "df=df.dropna()\n",
    "forecast=np.array(df['电量'])\n",
    "for i in range(4):\n",
    "    forecast=np.append(forecast,forecast[-5:].mean())\n",
    "df['MA5电量']=df['电量'].rolling(window=5).mean()    #添加移动平均数电量列\n",
    "forecast[-4:]\n",
    "for i in range(4):                                   #将预测值插入电量列\n",
    "    df.loc[i+36]=[i+202101,forecast[i-4],'Nan']\n",
    "for i in range(3):\n",
    "    df['MA5电量'][i+36]=forecast[i-3]                #填满移动平均数列"
   ]
  },
  {
   "cell_type": "code",
   "execution_count": 52,
   "metadata": {},
   "outputs": [
    {
     "name": "stderr",
     "output_type": "stream",
     "text": [
      "E:\\anaconda\\lib\\site-packages\\ipykernel_launcher.py:12: SettingWithCopyWarning: \n",
      "A value is trying to be set on a copy of a slice from a DataFrame\n",
      "\n",
      "See the caveats in the documentation: https://pandas.pydata.org/pandas-docs/stable/user_guide/indexing.html#returning-a-view-versus-a-copy\n",
      "  if sys.path[0] == '':\n"
     ]
    },
    {
     "data": {
      "text/html": [
       "<div>\n",
       "<style scoped>\n",
       "    .dataframe tbody tr th:only-of-type {\n",
       "        vertical-align: middle;\n",
       "    }\n",
       "\n",
       "    .dataframe tbody tr th {\n",
       "        vertical-align: top;\n",
       "    }\n",
       "\n",
       "    .dataframe thead th {\n",
       "        text-align: right;\n",
       "    }\n",
       "</style>\n",
       "<table border=\"1\" class=\"dataframe\">\n",
       "  <thead>\n",
       "    <tr style=\"text-align: right;\">\n",
       "      <th></th>\n",
       "      <th>月份</th>\n",
       "      <th>电量</th>\n",
       "      <th>MA5电量</th>\n",
       "    </tr>\n",
       "  </thead>\n",
       "  <tbody>\n",
       "    <tr>\n",
       "      <th>32</th>\n",
       "      <td>202009</td>\n",
       "      <td>3674.0000</td>\n",
       "      <td>3905.6</td>\n",
       "    </tr>\n",
       "    <tr>\n",
       "      <th>33</th>\n",
       "      <td>202010</td>\n",
       "      <td>3314.0000</td>\n",
       "      <td>3614.4</td>\n",
       "    </tr>\n",
       "    <tr>\n",
       "      <th>34</th>\n",
       "      <td>202011</td>\n",
       "      <td>5700.0000</td>\n",
       "      <td>3906.8</td>\n",
       "    </tr>\n",
       "    <tr>\n",
       "      <th>35</th>\n",
       "      <td>202012</td>\n",
       "      <td>3761.0000</td>\n",
       "      <td>4017.6</td>\n",
       "    </tr>\n",
       "    <tr>\n",
       "      <th>36</th>\n",
       "      <td>202101</td>\n",
       "      <td>4017.6000</td>\n",
       "      <td>4093.32</td>\n",
       "    </tr>\n",
       "    <tr>\n",
       "      <th>37</th>\n",
       "      <td>202102</td>\n",
       "      <td>4093.3200</td>\n",
       "      <td>4177.18</td>\n",
       "    </tr>\n",
       "    <tr>\n",
       "      <th>38</th>\n",
       "      <td>202103</td>\n",
       "      <td>4177.1840</td>\n",
       "      <td>4349.82</td>\n",
       "    </tr>\n",
       "    <tr>\n",
       "      <th>39</th>\n",
       "      <td>202104</td>\n",
       "      <td>4349.8208</td>\n",
       "      <td>Nan</td>\n",
       "    </tr>\n",
       "  </tbody>\n",
       "</table>\n",
       "</div>"
      ],
      "text/plain": [
       "        月份         电量    MA5电量\n",
       "32  202009  3674.0000   3905.6\n",
       "33  202010  3314.0000   3614.4\n",
       "34  202011  5700.0000   3906.8\n",
       "35  202012  3761.0000   4017.6\n",
       "36  202101  4017.6000  4093.32\n",
       "37  202102  4093.3200  4177.18\n",
       "38  202103  4177.1840  4349.82\n",
       "39  202104  4349.8208      Nan"
      ]
     },
     "execution_count": 52,
     "metadata": {},
     "output_type": "execute_result"
    }
   ],
   "source": [
    "####移动平均数预测交通\n",
    "df = pd.read_excel('交通时间序列.xlsx')\n",
    "df=df.dropna()\n",
    "forecast=np.array(df['电量'])\n",
    "for i in range(4):\n",
    "    forecast=np.append(forecast,forecast[-5:].mean())\n",
    "df['MA5电量']=df['电量'].rolling(window=5).mean()    #添加移动平均数电量列\n",
    "forecast[-4:]\n",
    "for i in range(4):                              #将预测值插入电量列\n",
    "    df.loc[i+36]=[i+202101,forecast[i-4],'Nan']\n",
    "for i in range(3):\n",
    "    df['MA5电量'][i+36]=forecast[i-3]          #填满移动平均数列\n",
    "df.tail(8)"
   ]
  },
  {
   "cell_type": "code",
   "execution_count": 53,
   "metadata": {},
   "outputs": [
    {
     "name": "stderr",
     "output_type": "stream",
     "text": [
      "E:\\anaconda\\lib\\site-packages\\ipykernel_launcher.py:12: SettingWithCopyWarning: \n",
      "A value is trying to be set on a copy of a slice from a DataFrame\n",
      "\n",
      "See the caveats in the documentation: https://pandas.pydata.org/pandas-docs/stable/user_guide/indexing.html#returning-a-view-versus-a-copy\n",
      "  if sys.path[0] == '':\n"
     ]
    },
    {
     "data": {
      "text/html": [
       "<div>\n",
       "<style scoped>\n",
       "    .dataframe tbody tr th:only-of-type {\n",
       "        vertical-align: middle;\n",
       "    }\n",
       "\n",
       "    .dataframe tbody tr th {\n",
       "        vertical-align: top;\n",
       "    }\n",
       "\n",
       "    .dataframe thead th {\n",
       "        text-align: right;\n",
       "    }\n",
       "</style>\n",
       "<table border=\"1\" class=\"dataframe\">\n",
       "  <thead>\n",
       "    <tr style=\"text-align: right;\">\n",
       "      <th></th>\n",
       "      <th>月份</th>\n",
       "      <th>电量</th>\n",
       "      <th>MA5电量</th>\n",
       "    </tr>\n",
       "  </thead>\n",
       "  <tbody>\n",
       "    <tr>\n",
       "      <th>32</th>\n",
       "      <td>202009</td>\n",
       "      <td>1428.0000</td>\n",
       "      <td>1761.2</td>\n",
       "    </tr>\n",
       "    <tr>\n",
       "      <th>33</th>\n",
       "      <td>202010</td>\n",
       "      <td>1686.0000</td>\n",
       "      <td>1586.2</td>\n",
       "    </tr>\n",
       "    <tr>\n",
       "      <th>34</th>\n",
       "      <td>202011</td>\n",
       "      <td>2187.0000</td>\n",
       "      <td>1555.6</td>\n",
       "    </tr>\n",
       "    <tr>\n",
       "      <th>35</th>\n",
       "      <td>202012</td>\n",
       "      <td>1834.0000</td>\n",
       "      <td>1675.8</td>\n",
       "    </tr>\n",
       "    <tr>\n",
       "      <th>36</th>\n",
       "      <td>202101</td>\n",
       "      <td>1675.8000</td>\n",
       "      <td>1762.16</td>\n",
       "    </tr>\n",
       "    <tr>\n",
       "      <th>37</th>\n",
       "      <td>202102</td>\n",
       "      <td>1762.1600</td>\n",
       "      <td>1828.99</td>\n",
       "    </tr>\n",
       "    <tr>\n",
       "      <th>38</th>\n",
       "      <td>202103</td>\n",
       "      <td>1828.9920</td>\n",
       "      <td>1857.59</td>\n",
       "    </tr>\n",
       "    <tr>\n",
       "      <th>39</th>\n",
       "      <td>202104</td>\n",
       "      <td>1857.5904</td>\n",
       "      <td>Nan</td>\n",
       "    </tr>\n",
       "  </tbody>\n",
       "</table>\n",
       "</div>"
      ],
      "text/plain": [
       "        月份         电量    MA5电量\n",
       "32  202009  1428.0000   1761.2\n",
       "33  202010  1686.0000   1586.2\n",
       "34  202011  2187.0000   1555.6\n",
       "35  202012  1834.0000   1675.8\n",
       "36  202101  1675.8000  1762.16\n",
       "37  202102  1762.1600  1828.99\n",
       "38  202103  1828.9920  1857.59\n",
       "39  202104  1857.5904      Nan"
      ]
     },
     "execution_count": 53,
     "metadata": {},
     "output_type": "execute_result"
    }
   ],
   "source": [
    "####移动平均数预测娱乐及观光活动\n",
    "df = pd.read_excel('娱乐及观光活动时间序列.xlsx')\n",
    "df=df.dropna()\n",
    "forecast=np.array(df['电量'])\n",
    "for i in range(4):\n",
    "    forecast=np.append(forecast,forecast[-5:].mean())\n",
    "df['MA5电量']=df['电量'].rolling(window=5).mean()    #添加移动平均数电量列\n",
    "forecast[-4:]\n",
    "for i in range(4):                              #将预测值插入电量列\n",
    "    df.loc[i+36]=[i+202101,forecast[i-4],'Nan']\n",
    "for i in range(3):\n",
    "    df['MA5电量'][i+36]=forecast[i-3]          #填满移动平均数列\n",
    "df.tail(8)"
   ]
  },
  {
   "cell_type": "code",
   "execution_count": null,
   "metadata": {},
   "outputs": [],
   "source": []
  },
  {
   "cell_type": "code",
   "execution_count": 104,
   "metadata": {},
   "outputs": [
    {
     "name": "stderr",
     "output_type": "stream",
     "text": [
      "E:\\anaconda\\lib\\site-packages\\ipykernel_launcher.py:4: FutureWarning: the 'freq'' keyword is deprecated, use 'period' instead\n",
      "  after removing the cwd from sys.path.\n"
     ]
    },
    {
     "ename": "NameError",
     "evalue": "name 'pyplot' is not defined",
     "output_type": "error",
     "traceback": [
      "\u001b[1;31m---------------------------------------------------------------------------\u001b[0m",
      "\u001b[1;31mNameError\u001b[0m                                 Traceback (most recent call last)",
      "\u001b[1;32m<ipython-input-104-8c189f0e2b6a>\u001b[0m in \u001b[0;36m<module>\u001b[1;34m\u001b[0m\n\u001b[0;32m      6\u001b[0m \u001b[0mrcParams\u001b[0m\u001b[1;33m[\u001b[0m\u001b[1;34m'figure.figsize'\u001b[0m\u001b[1;33m]\u001b[0m \u001b[1;33m=\u001b[0m \u001b[1;36m10\u001b[0m\u001b[1;33m,\u001b[0m \u001b[1;36m5\u001b[0m\u001b[1;33m\u001b[0m\u001b[1;33m\u001b[0m\u001b[0m\n\u001b[0;32m      7\u001b[0m \u001b[0mresult\u001b[0m\u001b[1;33m.\u001b[0m\u001b[0mplot\u001b[0m\u001b[1;33m(\u001b[0m\u001b[1;33m)\u001b[0m\u001b[1;33m\u001b[0m\u001b[1;33m\u001b[0m\u001b[0m\n\u001b[1;32m----> 8\u001b[1;33m \u001b[0mpyplot\u001b[0m\u001b[1;33m.\u001b[0m\u001b[0mfigure\u001b[0m\u001b[1;33m(\u001b[0m\u001b[0mfigsize\u001b[0m\u001b[1;33m=\u001b[0m\u001b[1;33m(\u001b[0m\u001b[1;36m40\u001b[0m\u001b[1;33m,\u001b[0m\u001b[1;36m10\u001b[0m\u001b[1;33m)\u001b[0m\u001b[1;33m)\u001b[0m\u001b[1;33m\u001b[0m\u001b[1;33m\u001b[0m\u001b[0m\n\u001b[0m\u001b[0;32m      9\u001b[0m \u001b[0mpyplot\u001b[0m\u001b[1;33m.\u001b[0m\u001b[0mshow\u001b[0m\u001b[1;33m(\u001b[0m\u001b[1;33m)\u001b[0m\u001b[1;33m\u001b[0m\u001b[1;33m\u001b[0m\u001b[0m\n",
      "\u001b[1;31mNameError\u001b[0m: name 'pyplot' is not defined"
     ]
    },
    {
     "data": {
      "image/png": "[encoded data removed]",
      "text/plain": [
       "<Figure size 720x360 with 4 Axes>"
      ]
     },
     "metadata": {
      "needs_background": "light"
     },
     "output_type": "display_data"
    }
   ],
   "source": [
    "##指数平滑预测餐饮业\n",
    "df = pd.read_excel('餐饮业时间序列.xlsx')\n",
    "#分解\n",
    "from statsmodels.tsa.seasonal import seasonal_decompose\n",
    "from pylab import rcParams\n",
    "result = seasonal_decompose(df['电量'], model='additive', freq=12)\n",
    " \n",
    "rcParams['figure.figsize'] = 10, 5\n",
    "result.plot()\n",
    "pyplot.figure(figsize=(40,10))\n",
    "pyplot.show()"
   ]
  },
  {
   "cell_type": "code",
   "execution_count": 109,
   "metadata": {
    "scrolled": true
   },
   "outputs": [
    {
     "name": "stderr",
     "output_type": "stream",
     "text": [
      "E:\\anaconda\\lib\\site-packages\\statsmodels\\tsa\\holtwinters.py:744: ConvergenceWarning: Optimization failed to converge. Check mle_retvals.\n",
      "  ConvergenceWarning)\n"
     ]
    },
    {
     "data": {
      "text/plain": [
       "659.7235226480755"
      ]
     },
     "execution_count": 109,
     "metadata": {},
     "output_type": "execute_result"
    }
   ],
   "source": [
    "#指数平滑预测(无趋势，加法周期)\n",
    "from statsmodels.tsa.api import ExponentialSmoothing\n",
    "EMA_fit = ExponentialSmoothing(df['电量'], seasonal_periods=12, trend=None, seasonal='add').fit(use_boxcox=True)\n",
    "EMA_fit.bic"
   ]
  },
  {
   "cell_type": "code",
   "execution_count": 115,
   "metadata": {},
   "outputs": [
    {
     "name": "stderr",
     "output_type": "stream",
     "text": [
      "E:\\anaconda\\lib\\site-packages\\statsmodels\\tsa\\holtwinters.py:744: ConvergenceWarning: Optimization failed to converge. Check mle_retvals.\n",
      "  ConvergenceWarning)\n"
     ]
    },
    {
     "data": {
      "text/plain": [
       "665.4744767694315"
      ]
     },
     "execution_count": 115,
     "metadata": {},
     "output_type": "execute_result"
    }
   ],
   "source": [
    "#指数平滑预测(无趋势，乘法周期)\n",
    "from statsmodels.tsa.api import ExponentialSmoothing\n",
    "EMA_fit = ExponentialSmoothing(df['电量'], seasonal_periods=12, trend=None, seasonal='multiplicative').fit(use_boxcox=True)\n",
    "EMA_fit.bic"
   ]
  },
  {
   "cell_type": "code",
   "execution_count": 111,
   "metadata": {},
   "outputs": [
    {
     "data": {
      "text/plain": [
       "680.6473833053168"
      ]
     },
     "execution_count": 111,
     "metadata": {},
     "output_type": "execute_result"
    }
   ],
   "source": [
    "#指数平滑预测(加法趋势，加法周期)\n",
    "from statsmodels.tsa.api import ExponentialSmoothing\n",
    "EMA_fit = ExponentialSmoothing(df['电量'], seasonal_periods=12, trend='add', seasonal='add').fit(use_boxcox=True)\n",
    "EMA_fit.bic"
   ]
  },
  {
   "cell_type": "code",
   "execution_count": 112,
   "metadata": {},
   "outputs": [
    {
     "data": {
      "text/plain": [
       "681.0701202607994"
      ]
     },
     "execution_count": 112,
     "metadata": {},
     "output_type": "execute_result"
    }
   ],
   "source": [
    "#指数平滑预测(加法趋势，乘法周期)\n",
    "from statsmodels.tsa.api import ExponentialSmoothing\n",
    "EMA_fit = ExponentialSmoothing(df['电量'], seasonal_periods=12, trend='add', seasonal='multiplicative').fit(use_boxcox=True)\n",
    "EMA_fit.bic"
   ]
  },
  {
   "cell_type": "code",
   "execution_count": 113,
   "metadata": {},
   "outputs": [
    {
     "name": "stderr",
     "output_type": "stream",
     "text": [
      "E:\\anaconda\\lib\\site-packages\\statsmodels\\tsa\\holtwinters.py:744: ConvergenceWarning: Optimization failed to converge. Check mle_retvals.\n",
      "  ConvergenceWarning)\n"
     ]
    },
    {
     "data": {
      "text/plain": [
       "679.1988655859986"
      ]
     },
     "execution_count": 113,
     "metadata": {},
     "output_type": "execute_result"
    }
   ],
   "source": [
    "#指数平滑预测(乘法趋势，加法周期)\n",
    "from statsmodels.tsa.api import ExponentialSmoothing\n",
    "EMA_fit = ExponentialSmoothing(df['电量'], seasonal_periods=12, trend='multiplicative', seasonal='add').fit(use_boxcox=True)\n",
    "EMA_fit.bic"
   ]
  },
  {
   "cell_type": "code",
   "execution_count": 114,
   "metadata": {},
   "outputs": [
    {
     "name": "stderr",
     "output_type": "stream",
     "text": [
      "E:\\anaconda\\lib\\site-packages\\statsmodels\\tsa\\holtwinters.py:744: ConvergenceWarning: Optimization failed to converge. Check mle_retvals.\n",
      "  ConvergenceWarning)\n"
     ]
    },
    {
     "data": {
      "text/plain": [
       "678.3340889582884"
      ]
     },
     "execution_count": 114,
     "metadata": {},
     "output_type": "execute_result"
    }
   ],
   "source": [
    "#指数平滑预测(乘法趋势，乘法周期)\n",
    "from statsmodels.tsa.api import ExponentialSmoothing\n",
    "EMA_fit = ExponentialSmoothing(df['电量'], seasonal_periods=12, trend='multiplicative', seasonal='multiplicative').fit(use_boxcox=True)\n",
    "EMA_fit.bic"
   ]
  },
  {
   "cell_type": "code",
   "execution_count": 116,
   "metadata": {},
   "outputs": [
    {
     "data": {
      "text/plain": [
       "36    19044.628763\n",
       "37    19425.785508\n",
       "38    12533.839492\n",
       "39    12246.953719\n",
       "dtype: float64"
      ]
     },
     "execution_count": 116,
     "metadata": {},
     "output_type": "execute_result"
    }
   ],
   "source": [
    "#确定模型，预测4期数据 【无趋势，乘法模型】\n",
    "fcast = EMA_fit.forecast(4)\n",
    "fcast"
   ]
  },
  {
   "cell_type": "code",
   "execution_count": null,
   "metadata": {},
   "outputs": [],
   "source": []
  },
  {
   "cell_type": "code",
   "execution_count": 117,
   "metadata": {},
   "outputs": [
    {
     "name": "stderr",
     "output_type": "stream",
     "text": [
      "E:\\anaconda\\lib\\site-packages\\ipykernel_launcher.py:6: FutureWarning: the 'freq'' keyword is deprecated, use 'period' instead\n",
      "  \n"
     ]
    },
    {
     "ename": "NameError",
     "evalue": "name 'pyplot' is not defined",
     "output_type": "error",
     "traceback": [
      "\u001b[1;31m---------------------------------------------------------------------------\u001b[0m",
      "\u001b[1;31mNameError\u001b[0m                                 Traceback (most recent call last)",
      "\u001b[1;32m<ipython-input-117-ea96e4e103d8>\u001b[0m in \u001b[0;36m<module>\u001b[1;34m\u001b[0m\n\u001b[0;32m      8\u001b[0m \u001b[0mrcParams\u001b[0m\u001b[1;33m[\u001b[0m\u001b[1;34m'figure.figsize'\u001b[0m\u001b[1;33m]\u001b[0m \u001b[1;33m=\u001b[0m \u001b[1;36m10\u001b[0m\u001b[1;33m,\u001b[0m \u001b[1;36m5\u001b[0m\u001b[1;33m\u001b[0m\u001b[1;33m\u001b[0m\u001b[0m\n\u001b[0;32m      9\u001b[0m \u001b[0mresult\u001b[0m\u001b[1;33m.\u001b[0m\u001b[0mplot\u001b[0m\u001b[1;33m(\u001b[0m\u001b[1;33m)\u001b[0m\u001b[1;33m\u001b[0m\u001b[1;33m\u001b[0m\u001b[0m\n\u001b[1;32m---> 10\u001b[1;33m \u001b[0mpyplot\u001b[0m\u001b[1;33m.\u001b[0m\u001b[0mfigure\u001b[0m\u001b[1;33m(\u001b[0m\u001b[0mfigsize\u001b[0m\u001b[1;33m=\u001b[0m\u001b[1;33m(\u001b[0m\u001b[1;36m40\u001b[0m\u001b[1;33m,\u001b[0m\u001b[1;36m10\u001b[0m\u001b[1;33m)\u001b[0m\u001b[1;33m)\u001b[0m\u001b[1;33m\u001b[0m\u001b[1;33m\u001b[0m\u001b[0m\n\u001b[0m\u001b[0;32m     11\u001b[0m \u001b[0mpyplot\u001b[0m\u001b[1;33m.\u001b[0m\u001b[0mshow\u001b[0m\u001b[1;33m(\u001b[0m\u001b[1;33m)\u001b[0m\u001b[1;33m\u001b[0m\u001b[1;33m\u001b[0m\u001b[0m\n",
      "\u001b[1;31mNameError\u001b[0m: name 'pyplot' is not defined"
     ]
    },
    {
     "data": {
      "image/png": "[encoded data removed]",
      "text/plain": [
       "<Figure size 720x360 with 4 Axes>"
      ]
     },
     "metadata": {
      "needs_background": "light"
     },
     "output_type": "display_data"
    }
   ],
   "source": [
    "##指数平滑预测住宿\n",
    "df = pd.read_excel('住宿时间序列.xlsx')\n",
    "#分解\n",
    "from statsmodels.tsa.seasonal import seasonal_decompose\n",
    "from pylab import rcParams\n",
    "result = seasonal_decompose(df['电量'], model='additive', freq=12)\n",
    " \n",
    "rcParams['figure.figsize'] = 10, 5\n",
    "result.plot()\n",
    "pyplot.figure(figsize=(40,10))\n",
    "pyplot.show()"
   ]
  },
  {
   "cell_type": "code",
   "execution_count": 124,
   "metadata": {},
   "outputs": [
    {
     "data": {
      "text/plain": [
       "579.3542809004198"
      ]
     },
     "execution_count": 124,
     "metadata": {},
     "output_type": "execute_result"
    }
   ],
   "source": [
    "#指数平滑预测(无趋势，加法周期)\n",
    "from statsmodels.tsa.api import ExponentialSmoothing\n",
    "EMA_fit = ExponentialSmoothing(df['电量'], seasonal_periods=12, trend=None, seasonal='add').fit(use_boxcox=True)\n",
    "EMA_fit.bic"
   ]
  },
  {
   "cell_type": "code",
   "execution_count": 123,
   "metadata": {},
   "outputs": [
    {
     "data": {
      "text/plain": [
       "580.0770110315764"
      ]
     },
     "execution_count": 123,
     "metadata": {},
     "output_type": "execute_result"
    }
   ],
   "source": [
    "#指数平滑预测(无趋势，乘法周期)\n",
    "from statsmodels.tsa.api import ExponentialSmoothing\n",
    "EMA_fit = ExponentialSmoothing(df['电量'], seasonal_periods=12, trend=None, seasonal='multiplicative').fit(use_boxcox=True)\n",
    "EMA_fit.bic"
   ]
  },
  {
   "cell_type": "code",
   "execution_count": 118,
   "metadata": {},
   "outputs": [
    {
     "name": "stderr",
     "output_type": "stream",
     "text": [
      "E:\\anaconda\\lib\\site-packages\\statsmodels\\tsa\\holtwinters.py:725: RuntimeWarning: invalid value encountered in less_equal\n",
      "  loc = initial_p <= lb\n",
      "E:\\anaconda\\lib\\site-packages\\statsmodels\\tsa\\holtwinters.py:731: RuntimeWarning: invalid value encountered in greater_equal\n",
      "  loc = initial_p >= ub\n"
     ]
    },
    {
     "data": {
      "text/plain": [
       "586.0891743840903"
      ]
     },
     "execution_count": 118,
     "metadata": {},
     "output_type": "execute_result"
    }
   ],
   "source": [
    "#指数平滑预测(加法趋势，加法周期)\n",
    "from statsmodels.tsa.api import ExponentialSmoothing\n",
    "EMA_fit = ExponentialSmoothing(df['电量'], seasonal_periods=12, trend='add', seasonal='add').fit(use_boxcox=True)\n",
    "EMA_fit.bic"
   ]
  },
  {
   "cell_type": "code",
   "execution_count": 119,
   "metadata": {},
   "outputs": [
    {
     "name": "stderr",
     "output_type": "stream",
     "text": [
      "E:\\anaconda\\lib\\site-packages\\statsmodels\\tsa\\holtwinters.py:744: ConvergenceWarning: Optimization failed to converge. Check mle_retvals.\n",
      "  ConvergenceWarning)\n"
     ]
    },
    {
     "data": {
      "text/plain": [
       "586.8714794620339"
      ]
     },
     "execution_count": 119,
     "metadata": {},
     "output_type": "execute_result"
    }
   ],
   "source": [
    "#指数平滑预测(加法趋势，乘法周期)\n",
    "from statsmodels.tsa.api import ExponentialSmoothing\n",
    "EMA_fit = ExponentialSmoothing(df['电量'], seasonal_periods=12, trend='add', seasonal='multiplicative').fit(use_boxcox=True)\n",
    "EMA_fit.bic"
   ]
  },
  {
   "cell_type": "code",
   "execution_count": 120,
   "metadata": {},
   "outputs": [
    {
     "name": "stderr",
     "output_type": "stream",
     "text": [
      "E:\\anaconda\\lib\\site-packages\\statsmodels\\tsa\\holtwinters.py:744: ConvergenceWarning: Optimization failed to converge. Check mle_retvals.\n",
      "  ConvergenceWarning)\n"
     ]
    },
    {
     "data": {
      "text/plain": [
       "591.1905413699571"
      ]
     },
     "execution_count": 120,
     "metadata": {},
     "output_type": "execute_result"
    }
   ],
   "source": [
    "#指数平滑预测(乘法趋势，加法周期)\n",
    "from statsmodels.tsa.api import ExponentialSmoothing\n",
    "EMA_fit = ExponentialSmoothing(df['电量'], seasonal_periods=12, trend='multiplicative', seasonal='add').fit(use_boxcox=True)\n",
    "EMA_fit.bic"
   ]
  },
  {
   "cell_type": "code",
   "execution_count": 121,
   "metadata": {},
   "outputs": [
    {
     "data": {
      "text/plain": [
       "590.1894445498182"
      ]
     },
     "execution_count": 121,
     "metadata": {},
     "output_type": "execute_result"
    }
   ],
   "source": [
    "#指数平滑预测(乘法趋势，乘法周期)\n",
    "from statsmodels.tsa.api import ExponentialSmoothing\n",
    "EMA_fit = ExponentialSmoothing(df['电量'], seasonal_periods=12, trend='multiplicative', seasonal='multiplicative').fit(use_boxcox=True)\n",
    "EMA_fit.bic"
   ]
  },
  {
   "cell_type": "code",
   "execution_count": 125,
   "metadata": {},
   "outputs": [
    {
     "data": {
      "text/plain": [
       "36    22800.920220\n",
       "37    17551.832400\n",
       "38     7809.281800\n",
       "39    13311.403801\n",
       "dtype: float64"
      ]
     },
     "execution_count": 125,
     "metadata": {},
     "output_type": "execute_result"
    }
   ],
   "source": [
    "#确定模型，预测4期数据 【无趋势，加法周期)】\n",
    "fcast = EMA_fit.forecast(4)\n",
    "fcast"
   ]
  },
  {
   "cell_type": "code",
   "execution_count": null,
   "metadata": {},
   "outputs": [],
   "source": []
  },
  {
   "cell_type": "code",
   "execution_count": 126,
   "metadata": {},
   "outputs": [
    {
     "name": "stderr",
     "output_type": "stream",
     "text": [
      "E:\\anaconda\\lib\\site-packages\\ipykernel_launcher.py:6: FutureWarning: the 'freq'' keyword is deprecated, use 'period' instead\n",
      "  \n"
     ]
    },
    {
     "ename": "NameError",
     "evalue": "name 'pyplot' is not defined",
     "output_type": "error",
     "traceback": [
      "\u001b[1;31m---------------------------------------------------------------------------\u001b[0m",
      "\u001b[1;31mNameError\u001b[0m                                 Traceback (most recent call last)",
      "\u001b[1;32m<ipython-input-126-69dc10475547>\u001b[0m in \u001b[0;36m<module>\u001b[1;34m\u001b[0m\n\u001b[0;32m      8\u001b[0m \u001b[0mrcParams\u001b[0m\u001b[1;33m[\u001b[0m\u001b[1;34m'figure.figsize'\u001b[0m\u001b[1;33m]\u001b[0m \u001b[1;33m=\u001b[0m \u001b[1;36m10\u001b[0m\u001b[1;33m,\u001b[0m \u001b[1;36m5\u001b[0m\u001b[1;33m\u001b[0m\u001b[1;33m\u001b[0m\u001b[0m\n\u001b[0;32m      9\u001b[0m \u001b[0mresult\u001b[0m\u001b[1;33m.\u001b[0m\u001b[0mplot\u001b[0m\u001b[1;33m(\u001b[0m\u001b[1;33m)\u001b[0m\u001b[1;33m\u001b[0m\u001b[1;33m\u001b[0m\u001b[0m\n\u001b[1;32m---> 10\u001b[1;33m \u001b[0mpyplot\u001b[0m\u001b[1;33m.\u001b[0m\u001b[0mfigure\u001b[0m\u001b[1;33m(\u001b[0m\u001b[0mfigsize\u001b[0m\u001b[1;33m=\u001b[0m\u001b[1;33m(\u001b[0m\u001b[1;36m40\u001b[0m\u001b[1;33m,\u001b[0m\u001b[1;36m10\u001b[0m\u001b[1;33m)\u001b[0m\u001b[1;33m)\u001b[0m\u001b[1;33m\u001b[0m\u001b[1;33m\u001b[0m\u001b[0m\n\u001b[0m\u001b[0;32m     11\u001b[0m \u001b[0mpyplot\u001b[0m\u001b[1;33m.\u001b[0m\u001b[0mshow\u001b[0m\u001b[1;33m(\u001b[0m\u001b[1;33m)\u001b[0m\u001b[1;33m\u001b[0m\u001b[1;33m\u001b[0m\u001b[0m\n",
      "\u001b[1;31mNameError\u001b[0m: name 'pyplot' is not defined"
     ]
    },
    {
     "data": {
      "image/png": "[encoded data removed]",
      "text/plain": [
       "<Figure size 720x360 with 4 Axes>"
      ]
     },
     "metadata": {
      "needs_background": "light"
     },
     "output_type": "display_data"
    }
   ],
   "source": [
    "##指数平滑预测交通\n",
    "df = pd.read_excel('交通时间序列.xlsx')\n",
    "#分解\n",
    "from statsmodels.tsa.seasonal import seasonal_decompose\n",
    "from pylab import rcParams\n",
    "result = seasonal_decompose(df['电量'], model='additive', freq=12)\n",
    " \n",
    "rcParams['figure.figsize'] = 10, 5\n",
    "result.plot()\n",
    "pyplot.figure(figsize=(40,10))\n",
    "pyplot.show()"
   ]
  },
  {
   "cell_type": "code",
   "execution_count": 127,
   "metadata": {},
   "outputs": [
    {
     "name": "stderr",
     "output_type": "stream",
     "text": [
      "E:\\anaconda\\lib\\site-packages\\statsmodels\\tsa\\holtwinters.py:725: RuntimeWarning: invalid value encountered in less_equal\n",
      "  loc = initial_p <= lb\n",
      "E:\\anaconda\\lib\\site-packages\\statsmodels\\tsa\\holtwinters.py:731: RuntimeWarning: invalid value encountered in greater_equal\n",
      "  loc = initial_p >= ub\n"
     ]
    },
    {
     "data": {
      "text/plain": [
       "560.2297979946838"
      ]
     },
     "execution_count": 127,
     "metadata": {},
     "output_type": "execute_result"
    }
   ],
   "source": [
    "#指数平滑预测(无趋势，加法周期)\n",
    "from statsmodels.tsa.api import ExponentialSmoothing\n",
    "EMA_fit = ExponentialSmoothing(df['电量'], seasonal_periods=12, trend=None, seasonal='add').fit(use_boxcox=True)\n",
    "EMA_fit.bic"
   ]
  },
  {
   "cell_type": "code",
   "execution_count": 128,
   "metadata": {},
   "outputs": [
    {
     "data": {
      "text/plain": [
       "558.1126150670477"
      ]
     },
     "execution_count": 128,
     "metadata": {},
     "output_type": "execute_result"
    }
   ],
   "source": [
    "#指数平滑预测(无趋势，乘法周期)\n",
    "from statsmodels.tsa.api import ExponentialSmoothing\n",
    "EMA_fit = ExponentialSmoothing(df['电量'], seasonal_periods=12, trend=None, seasonal='multiplicative').fit(use_boxcox=True)\n",
    "EMA_fit.bic"
   ]
  },
  {
   "cell_type": "code",
   "execution_count": 129,
   "metadata": {},
   "outputs": [
    {
     "data": {
      "text/plain": [
       "567.2410243282034"
      ]
     },
     "execution_count": 129,
     "metadata": {},
     "output_type": "execute_result"
    }
   ],
   "source": [
    "#指数平滑预测(加法趋势，加法周期)\n",
    "from statsmodels.tsa.api import ExponentialSmoothing\n",
    "EMA_fit = ExponentialSmoothing(df['电量'], seasonal_periods=12, trend='add', seasonal='add').fit(use_boxcox=True)\n",
    "EMA_fit.bic"
   ]
  },
  {
   "cell_type": "code",
   "execution_count": 130,
   "metadata": {},
   "outputs": [
    {
     "name": "stderr",
     "output_type": "stream",
     "text": [
      "E:\\anaconda\\lib\\site-packages\\statsmodels\\tsa\\holtwinters.py:744: ConvergenceWarning: Optimization failed to converge. Check mle_retvals.\n",
      "  ConvergenceWarning)\n"
     ]
    },
    {
     "data": {
      "text/plain": [
       "552.6523347118363"
      ]
     },
     "execution_count": 130,
     "metadata": {},
     "output_type": "execute_result"
    }
   ],
   "source": [
    "#指数平滑预测(加法趋势，乘法周期)\n",
    "from statsmodels.tsa.api import ExponentialSmoothing\n",
    "EMA_fit = ExponentialSmoothing(df['电量'], seasonal_periods=12, trend='add', seasonal='multiplicative').fit(use_boxcox=True)\n",
    "EMA_fit.bic"
   ]
  },
  {
   "cell_type": "code",
   "execution_count": 131,
   "metadata": {},
   "outputs": [
    {
     "data": {
      "text/plain": [
       "567.3265500015318"
      ]
     },
     "execution_count": 131,
     "metadata": {},
     "output_type": "execute_result"
    }
   ],
   "source": [
    "#指数平滑预测(乘法趋势，加法周期)\n",
    "from statsmodels.tsa.api import ExponentialSmoothing\n",
    "EMA_fit = ExponentialSmoothing(df['电量'], seasonal_periods=12, trend='multiplicative', seasonal='add').fit(use_boxcox=True)\n",
    "EMA_fit.bic"
   ]
  },
  {
   "cell_type": "code",
   "execution_count": 132,
   "metadata": {},
   "outputs": [
    {
     "name": "stderr",
     "output_type": "stream",
     "text": [
      "E:\\anaconda\\lib\\site-packages\\statsmodels\\tsa\\holtwinters.py:744: ConvergenceWarning: Optimization failed to converge. Check mle_retvals.\n",
      "  ConvergenceWarning)\n"
     ]
    },
    {
     "data": {
      "text/plain": [
       "550.9023612636533"
      ]
     },
     "execution_count": 132,
     "metadata": {},
     "output_type": "execute_result"
    }
   ],
   "source": [
    "#指数平滑预测(乘法趋势，乘法周期)\n",
    "from statsmodels.tsa.api import ExponentialSmoothing\n",
    "EMA_fit = ExponentialSmoothing(df['电量'], seasonal_periods=12, trend='multiplicative', seasonal='multiplicative').fit(use_boxcox=True)\n",
    "EMA_fit.bic"
   ]
  },
  {
   "cell_type": "code",
   "execution_count": 133,
   "metadata": {},
   "outputs": [
    {
     "data": {
      "text/plain": [
       "36    5053.535355\n",
       "37    1541.471234\n",
       "38    1025.343007\n",
       "39    2126.294355\n",
       "dtype: float64"
      ]
     },
     "execution_count": 133,
     "metadata": {},
     "output_type": "execute_result"
    }
   ],
   "source": [
    "#确定模型，预测4期数据 【乘法趋势，乘法周期)】\n",
    "fcast = EMA_fit.forecast(4)\n",
    "fcast"
   ]
  },
  {
   "cell_type": "code",
   "execution_count": null,
   "metadata": {},
   "outputs": [],
   "source": []
  },
  {
   "cell_type": "code",
   "execution_count": 134,
   "metadata": {},
   "outputs": [
    {
     "name": "stderr",
     "output_type": "stream",
     "text": [
      "E:\\anaconda\\lib\\site-packages\\ipykernel_launcher.py:6: FutureWarning: the 'freq'' keyword is deprecated, use 'period' instead\n",
      "  \n"
     ]
    },
    {
     "ename": "NameError",
     "evalue": "name 'pyplot' is not defined",
     "output_type": "error",
     "traceback": [
      "\u001b[1;31m---------------------------------------------------------------------------\u001b[0m",
      "\u001b[1;31mNameError\u001b[0m                                 Traceback (most recent call last)",
      "\u001b[1;32m<ipython-input-134-28ea47a42215>\u001b[0m in \u001b[0;36m<module>\u001b[1;34m\u001b[0m\n\u001b[0;32m      8\u001b[0m \u001b[0mrcParams\u001b[0m\u001b[1;33m[\u001b[0m\u001b[1;34m'figure.figsize'\u001b[0m\u001b[1;33m]\u001b[0m \u001b[1;33m=\u001b[0m \u001b[1;36m10\u001b[0m\u001b[1;33m,\u001b[0m \u001b[1;36m5\u001b[0m\u001b[1;33m\u001b[0m\u001b[1;33m\u001b[0m\u001b[0m\n\u001b[0;32m      9\u001b[0m \u001b[0mresult\u001b[0m\u001b[1;33m.\u001b[0m\u001b[0mplot\u001b[0m\u001b[1;33m(\u001b[0m\u001b[1;33m)\u001b[0m\u001b[1;33m\u001b[0m\u001b[1;33m\u001b[0m\u001b[0m\n\u001b[1;32m---> 10\u001b[1;33m \u001b[0mpyplot\u001b[0m\u001b[1;33m.\u001b[0m\u001b[0mfigure\u001b[0m\u001b[1;33m(\u001b[0m\u001b[0mfigsize\u001b[0m\u001b[1;33m=\u001b[0m\u001b[1;33m(\u001b[0m\u001b[1;36m40\u001b[0m\u001b[1;33m,\u001b[0m\u001b[1;36m10\u001b[0m\u001b[1;33m)\u001b[0m\u001b[1;33m)\u001b[0m\u001b[1;33m\u001b[0m\u001b[1;33m\u001b[0m\u001b[0m\n\u001b[0m\u001b[0;32m     11\u001b[0m \u001b[0mpyplot\u001b[0m\u001b[1;33m.\u001b[0m\u001b[0mshow\u001b[0m\u001b[1;33m(\u001b[0m\u001b[1;33m)\u001b[0m\u001b[1;33m\u001b[0m\u001b[1;33m\u001b[0m\u001b[0m\n",
      "\u001b[1;31mNameError\u001b[0m: name 'pyplot' is not defined"
     ]
    },
    {
     "data": {
      "image/png": "[encoded data removed]",
      "text/plain": [
       "<Figure size 720x360 with 4 Axes>"
      ]
     },
     "metadata": {
      "needs_background": "light"
     },
     "output_type": "display_data"
    }
   ],
   "source": [
    "##指数平滑预测娱乐及观光活动\n",
    "df = pd.read_excel('娱乐及观光活动时间序列.xlsx')\n",
    "#分解\n",
    "from statsmodels.tsa.seasonal import seasonal_decompose\n",
    "from pylab import rcParams\n",
    "result = seasonal_decompose(df['电量'], model='additive', freq=12)\n",
    " \n",
    "rcParams['figure.figsize'] = 10, 5\n",
    "result.plot()\n",
    "pyplot.figure(figsize=(40,10))\n",
    "pyplot.show()"
   ]
  },
  {
   "cell_type": "code",
   "execution_count": 141,
   "metadata": {},
   "outputs": [
    {
     "data": {
      "text/plain": [
       "484.2965147086348"
      ]
     },
     "execution_count": 141,
     "metadata": {},
     "output_type": "execute_result"
    }
   ],
   "source": [
    "#指数平滑预测(无趋势，加法周期)\n",
    "from statsmodels.tsa.api import ExponentialSmoothing\n",
    "EMA_fit = ExponentialSmoothing(df['电量'], seasonal_periods=12, trend=None, seasonal='add').fit(use_boxcox=True)\n",
    "EMA_fit.bic"
   ]
  },
  {
   "cell_type": "code",
   "execution_count": 136,
   "metadata": {},
   "outputs": [
    {
     "data": {
      "text/plain": [
       "485.3738173424437"
      ]
     },
     "execution_count": 136,
     "metadata": {},
     "output_type": "execute_result"
    }
   ],
   "source": [
    "#指数平滑预测(无趋势，乘法周期)\n",
    "from statsmodels.tsa.api import ExponentialSmoothing\n",
    "EMA_fit = ExponentialSmoothing(df['电量'], seasonal_periods=12, trend=None, seasonal='multiplicative').fit(use_boxcox=True)\n",
    "EMA_fit.bic"
   ]
  },
  {
   "cell_type": "code",
   "execution_count": 137,
   "metadata": {},
   "outputs": [
    {
     "name": "stderr",
     "output_type": "stream",
     "text": [
      "E:\\anaconda\\lib\\site-packages\\statsmodels\\tsa\\holtwinters.py:744: ConvergenceWarning: Optimization failed to converge. Check mle_retvals.\n",
      "  ConvergenceWarning)\n"
     ]
    },
    {
     "data": {
      "text/plain": [
       "517.0482942930088"
      ]
     },
     "execution_count": 137,
     "metadata": {},
     "output_type": "execute_result"
    }
   ],
   "source": [
    "#指数平滑预测(加法趋势，加法周期)\n",
    "from statsmodels.tsa.api import ExponentialSmoothing\n",
    "EMA_fit = ExponentialSmoothing(df['电量'], seasonal_periods=12, trend='add', seasonal='add').fit(use_boxcox=True)\n",
    "EMA_fit.bic"
   ]
  },
  {
   "cell_type": "code",
   "execution_count": 138,
   "metadata": {},
   "outputs": [
    {
     "name": "stderr",
     "output_type": "stream",
     "text": [
      "E:\\anaconda\\lib\\site-packages\\statsmodels\\tsa\\holtwinters.py:744: ConvergenceWarning: Optimization failed to converge. Check mle_retvals.\n",
      "  ConvergenceWarning)\n"
     ]
    },
    {
     "data": {
      "text/plain": [
       "516.7913992713026"
      ]
     },
     "execution_count": 138,
     "metadata": {},
     "output_type": "execute_result"
    }
   ],
   "source": [
    "#指数平滑预测(加法趋势，乘法周期)\n",
    "from statsmodels.tsa.api import ExponentialSmoothing\n",
    "EMA_fit = ExponentialSmoothing(df['电量'], seasonal_periods=12, trend='add', seasonal='multiplicative').fit(use_boxcox=True)\n",
    "EMA_fit.bic"
   ]
  },
  {
   "cell_type": "code",
   "execution_count": 139,
   "metadata": {},
   "outputs": [
    {
     "name": "stderr",
     "output_type": "stream",
     "text": [
      "E:\\anaconda\\lib\\site-packages\\statsmodels\\tsa\\holtwinters.py:744: ConvergenceWarning: Optimization failed to converge. Check mle_retvals.\n",
      "  ConvergenceWarning)\n"
     ]
    },
    {
     "data": {
      "text/plain": [
       "512.7125249851737"
      ]
     },
     "execution_count": 139,
     "metadata": {},
     "output_type": "execute_result"
    }
   ],
   "source": [
    "#指数平滑预测(乘法趋势，加法周期)\n",
    "from statsmodels.tsa.api import ExponentialSmoothing\n",
    "EMA_fit = ExponentialSmoothing(df['电量'], seasonal_periods=12, trend='multiplicative', seasonal='add').fit(use_boxcox=True)\n",
    "EMA_fit.bic"
   ]
  },
  {
   "cell_type": "code",
   "execution_count": 140,
   "metadata": {},
   "outputs": [
    {
     "name": "stderr",
     "output_type": "stream",
     "text": [
      "E:\\anaconda\\lib\\site-packages\\statsmodels\\tsa\\holtwinters.py:744: ConvergenceWarning: Optimization failed to converge. Check mle_retvals.\n",
      "  ConvergenceWarning)\n"
     ]
    },
    {
     "data": {
      "text/plain": [
       "511.3920694008376"
      ]
     },
     "execution_count": 140,
     "metadata": {},
     "output_type": "execute_result"
    }
   ],
   "source": [
    "#指数平滑预测(乘法趋势，乘法周期)\n",
    "from statsmodels.tsa.api import ExponentialSmoothing\n",
    "EMA_fit = ExponentialSmoothing(df['电量'], seasonal_periods=12, trend='multiplicative', seasonal='multiplicative').fit(use_boxcox=True)\n",
    "EMA_fit.bic"
   ]
  },
  {
   "cell_type": "code",
   "execution_count": 142,
   "metadata": {},
   "outputs": [
    {
     "data": {
      "text/plain": [
       "36    2128.394540\n",
       "37    2187.969613\n",
       "38    1571.299270\n",
       "39    1378.632818\n",
       "dtype: float64"
      ]
     },
     "execution_count": 142,
     "metadata": {},
     "output_type": "execute_result"
    }
   ],
   "source": [
    "#确定模型，预测4期数据 【无趋势，加法周期】\n",
    "fcast = EMA_fit.forecast(4)\n",
    "fcast"
   ]
  },
  {
   "cell_type": "code",
   "execution_count": null,
   "metadata": {},
   "outputs": [],
   "source": []
  },
  {
   "cell_type": "code",
   "execution_count": null,
   "metadata": {},
   "outputs": [],
   "source": []
  }
 ],
 "metadata": {
  "kernelspec": {
   "display_name": "Python 3",
   "language": "python",
   "name": "python3"
  },
  "language_info": {
   "codemirror_mode": {
    "name": "ipython",
    "version": 3
   },
   "file_extension": ".py",
   "mimetype": "text/x-python",
   "name": "python",
   "nbconvert_exporter": "python",
   "pygments_lexer": "ipython3",
   "version": "3.8.5"
  }
 },
 "nbformat": 4,
 "nbformat_minor": 4
}
